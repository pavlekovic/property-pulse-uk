{
 "cells": [
  {
   "cell_type": "code",
   "execution_count": 1,
   "id": "4f552c04",
   "metadata": {},
   "outputs": [
    {
     "name": "stdout",
     "output_type": "stream",
     "text": [
      "/Users/renatopavlekovic/Documents/Digital Futures/property-pulse-uk/data/marts\n"
     ]
    }
   ],
   "source": [
    "# === CHECK MARTS (Pandas) ===============================================\n",
    "# Use in Jupyter (cell by cell) or save as notebooks/check_marts.py and run.\n",
    "# ------------------------------------------------------------------------\n",
    "\n",
    "from pathlib import Path\n",
    "import pandas as pd\n",
    "import matplotlib.pyplot as plt\n",
    "\n",
    "# ---- Paths (edit if needed) --------------------------------------------\n",
    "BASE_DIR = Path(__file__).resolve().parents[2] if \"__file__\" in globals() else Path(\"..\").resolve()\n",
    "DATA_DIR = BASE_DIR / \"data\"\n",
    "MARTS_DIR = DATA_DIR / \"marts\"\n",
    "\n",
    "print(MARTS_DIR)\n",
    "\n",
    "# Partitioned Parquet directories (written by your Spark marts job)\n",
    "FACT_BY_TYPE_DIR      = MARTS_DIR / \"fact_prices\"            # yearly agg by (district, property_type, year)\n",
    "FACT_BY_DISTRICT_DIR  = MARTS_DIR / \"fact_prices_district\"   # yearly agg by (district, year)\n",
    "\n",
    "# Single Parquet (coalesced to 1) with 5y bounds\n",
    "BOUNDS_5Y_PATH        = MARTS_DIR / \"agg_bounds_5y\"\n",
    "\n",
    "TRANSFORMED = DATA_DIR / \"transformed\"\n",
    "\n",
    "RAW = DATA_DIR / \"raw\" / \"pp_complete.csv\"\n",
    "\n",
    "T_CSV = BASE_DIR / \"ppdata_with_header.csv\"\n",
    "\n",
    "# Show full floats without scientific notation\n",
    "pd.set_option(\"display.float_format\", \"{:,.0f}\".format)"
   ]
  },
  {
   "cell_type": "code",
   "execution_count": 19,
   "id": "3044e35f",
   "metadata": {},
   "outputs": [],
   "source": [
    "# ---- Helpers ------------------------------------------------------------\n",
    "def must_exist(path: Path, kind: str = \"path\"):\n",
    "    if not path.exists():\n",
    "        raise FileNotFoundError(f\"Missing {kind}: {path}\")\n",
    "    return path\n",
    "\n",
    "def summarize_df(name: str, df: pd.DataFrame, n: int = 5):\n",
    "    print(f\"\\n=== {name}: shape={df.shape} ===\")\n",
    "    print(df.head(n))\n",
    "    print(\"\\n-- dtypes --\")\n",
    "    print(df.dtypes)\n",
    "    print(\"\\n-- describe (numeric) --\")\n",
    "    print(df.describe().T)\n",
    "    # Basic null check\n",
    "    nulls = df.isna().sum()\n",
    "    if nulls.any():\n",
    "        print(\"\\n-- null counts --\")\n",
    "        print(nulls[nulls > 0].sort_values(ascending=False))\n",
    "\n",
    "def coerce_numeric(df: pd.DataFrame, cols):\n",
    "    for c in cols:\n",
    "        if c in df.columns:\n",
    "            df[c] = pd.to_numeric(df[c], errors=\"coerce\")\n",
    "    return df"
   ]
  },
  {
   "cell_type": "code",
   "execution_count": 2,
   "id": "a12a5ce3",
   "metadata": {},
   "outputs": [],
   "source": [
    "# ---- Load marts ---------------------------------------------------------\n",
    "#must_exist(FACT_BY_TYPE_DIR, \"parquet dir\")\n",
    "#must_exist(FACT_BY_DISTRICT_DIR, \"parquet dir\")\n",
    "#must_exist(BOUNDS_5Y_PATH, \"parquet dir\")\n",
    "\n",
    "df_type = pd.read_parquet(FACT_BY_TYPE_DIR)\n",
    "df_dist = pd.read_parquet(FACT_BY_DISTRICT_DIR)\n",
    "df_bounds = pd.read_parquet(BOUNDS_5Y_PATH)\n",
    "\n",
    "df_parq = pd.read_parquet(TRANSFORMED)\n",
    "\n",
    "\n",
    "\n",
    "\n"
   ]
  },
  {
   "cell_type": "code",
   "execution_count": 5,
   "id": "55e194bf",
   "metadata": {},
   "outputs": [],
   "source": [
    "\n",
    "\n",
    "# Read raw CSV (headerless)\n",
    "#df_csv = pd.read_csv(RAW, header=None, names=columns)\n",
    "#df_full_csv = pd.read_csv(T_CSV)\n",
    "\n",
    "# Save with headers\n",
    "#df_csv.to_csv(\"ppdata_with_header.csv\", index=False)\n",
    "\n",
    "\n",
    "# Convert transfer_datetime to datetime\n",
    "df_full_csv[\"transfer_datetime\"] = pd.to_datetime(df_full_csv[\"transfer_datetime\"], errors=\"coerce\")\n"
   ]
  },
  {
   "cell_type": "code",
   "execution_count": null,
   "id": "5a7af79c",
   "metadata": {},
   "outputs": [],
   "source": []
  },
  {
   "cell_type": "code",
   "execution_count": 21,
   "id": "e1af9a93",
   "metadata": {},
   "outputs": [
    {
     "name": "stdout",
     "output_type": "stream",
     "text": [
      "\n",
      "=== FACT_BY_TYPE (district, property_type, year): shape=(18173, 5) ===\n",
      "       district property_type  avg_price  txn_count  year\n",
      "0   EAST DORSET             D    113,952        150  1995\n",
      "1    BIRMINGHAM             T     40,992        747  1995\n",
      "2   TEST VALLEY             T     57,806         70  1995\n",
      "3  PETERBOROUGH             D     68,676         83  1995\n",
      "4      TRAFFORD             T     49,421        113  1995\n",
      "\n",
      "-- dtypes --\n",
      "district          object\n",
      "property_type     object\n",
      "avg_price        float64\n",
      "txn_count          int64\n",
      "year               int64\n",
      "dtype: object\n",
      "\n",
      "-- describe (numeric) --\n",
      "           count    mean     std   min     25%     50%     75%        max\n",
      "avg_price 18,173 237,662 324,247   380 106,333 169,894 274,995 12,930,000\n",
      "txn_count 18,173      59      73     1      11      38      80        879\n",
      "year      18,173   2,010       9 1,995   2,004   2,010   2,013      2,025\n",
      "\n",
      "=== FACT_BY_DISTRICT (district, year): shape=(5578, 4) ===\n",
      "                district  avg_price  txn_count  year\n",
      "0               REDDITCH     62,889        180  1995\n",
      "1            MEIRIONNYDD     40,116         60  1995\n",
      "2                  CONWY     40,525          6  1995\n",
      "3  PRESELI PEMBROKESHIRE     53,180        103  1995\n",
      "4                  ARFON     44,142         91  1995\n",
      "\n",
      "-- dtypes --\n",
      "district      object\n",
      "avg_price    float64\n",
      "txn_count      int64\n",
      "year           int64\n",
      "dtype: object\n",
      "\n",
      "-- describe (numeric) --\n",
      "           count    mean     std    min     25%     50%     75%       max\n",
      "avg_price  5,578 240,644 194,188 10,000 129,360 196,319 296,779 3,128,445\n",
      "txn_count  5,578     193     224      1       5     137     285     2,316\n",
      "year       5,578   2,011       9  1,995   2,004   2,011   2,020     2,025\n",
      "\n",
      "=== BOUNDS_5Y (min/max per district over last 5y): shape=(317, 3) ===\n",
      "     district  min_price_past  max_price_past\n",
      "0  CUMBERLAND           35000         1050000\n",
      "1   ROTHERHAM           50000          928000\n",
      "2     FAREHAM           59500         1075000\n",
      "3     CHORLEY           55000         1020000\n",
      "4     RUTLAND          115625         3350000\n",
      "\n",
      "-- dtypes --\n",
      "district          object\n",
      "min_price_past     int32\n",
      "max_price_past     int32\n",
      "dtype: object\n",
      "\n",
      "-- describe (numeric) --\n",
      "                count      mean       std     min     25%       50%       75%  \\\n",
      "min_price_past    317    77,563    41,552   1,500  50,000    70,500    99,000   \n",
      "max_price_past    317 2,386,965 7,470,068 392,000 900,000 1,300,000 2,050,000   \n",
      "\n",
      "                       max  \n",
      "min_price_past     425,000  \n",
      "max_price_past 124,519,556  \n"
     ]
    }
   ],
   "source": [
    "# ---- Summaries ----------------------------------------------------------\n",
    "summarize_df(\"FACT_BY_TYPE (district, property_type, year)\", df_type)\n",
    "summarize_df(\"FACT_BY_DISTRICT (district, year)\", df_dist)\n",
    "summarize_df(\"BOUNDS_5Y (min/max per district over last 5y)\", df_bounds)"
   ]
  },
  {
   "cell_type": "code",
   "execution_count": null,
   "id": "7dec5f4a",
   "metadata": {},
   "outputs": [
    {
     "data": {
      "text/plain": [
       "transaction_id       4880\n",
       "price                4880\n",
       "transfer_datetime    4880\n",
       "postcode             4867\n",
       "property_type        4880\n",
       "new_build            4880\n",
       "tenure               4880\n",
       "paon                 4880\n",
       "saon                  472\n",
       "street               4875\n",
       "locality             2471\n",
       "town                 4880\n",
       "district             4880\n",
       "county               4880\n",
       "ppd_category         4880\n",
       "record_status        4880\n",
       "dtype: int64"
      ]
     },
     "execution_count": 7,
     "metadata": {},
     "output_type": "execute_result"
    }
   ],
   "source": [
    "# Filter Colchester rows and in 2022 (there should be 4628 transactions)\n",
    "check_ch = df_full_csv[(df_full_csv[\"town\"].str.upper() == \"COLCHESTER\") & \n",
    "                   (df_full_csv[\"county\"].str.upper() == \"ESSEX\") & \n",
    "                   (df_full_csv[\"transfer_datetime\"].dt.year == 2022)]\n",
    "\n",
    "check_ch.count()"
   ]
  },
  {
   "cell_type": "code",
   "execution_count": 24,
   "id": "61430318",
   "metadata": {},
   "outputs": [
    {
     "data": {
      "text/plain": [
       "transaction_id       4628\n",
       "price                4628\n",
       "transfer_datetime    4628\n",
       "postcode             4628\n",
       "property_type        4628\n",
       "new_build            4628\n",
       "tenure               4628\n",
       "paon                 4628\n",
       "saon                  438\n",
       "street               4625\n",
       "locality             2326\n",
       "town                 4628\n",
       "district             4628\n",
       "county               4628\n",
       "ppd_category         4628\n",
       "record_status        4628\n",
       "transfer_ts          4628\n",
       "transfer_date        4628\n",
       "year                 4628\n",
       "dtype: int64"
      ]
     },
     "execution_count": 24,
     "metadata": {},
     "output_type": "execute_result"
    }
   ],
   "source": [
    "# Filter Colchester rows and in 2022 (there should be 4628 transactions)\n",
    "check_ch = df_parq[(df_parq[\"town\"].str.upper() == \"COLCHESTER\") & \n",
    "                   (df_parq[\"county\"].str.upper() == \"ESSEX\") & \n",
    "                   (df_parq[\"year\"] == 2022)]\n",
    "\n",
    "check_ch.count()"
   ]
  },
  {
   "cell_type": "code",
   "execution_count": 8,
   "id": "8b100123",
   "metadata": {},
   "outputs": [
    {
     "data": {
      "text/plain": [
       "transaction_id       30365754\n",
       "price                30365754\n",
       "transfer_datetime    30365754\n",
       "postcode             30316542\n",
       "property_type        30365754\n",
       "new_build            30365754\n",
       "tenure               30365754\n",
       "paon                 30361570\n",
       "saon                  3626679\n",
       "street               29883553\n",
       "locality             18987870\n",
       "town                 30365754\n",
       "district             30365754\n",
       "county               30365754\n",
       "ppd_category         30365754\n",
       "record_status        30365754\n",
       "dtype: int64"
      ]
     },
     "execution_count": 8,
     "metadata": {},
     "output_type": "execute_result"
    }
   ],
   "source": [
    "df_full_csv.count()"
   ]
  },
  {
   "cell_type": "code",
   "execution_count": 22,
   "id": "aecb3708",
   "metadata": {},
   "outputs": [
    {
     "data": {
      "text/plain": [
       "transaction_id       29789443\n",
       "price                29789443\n",
       "transfer_datetime    29789443\n",
       "postcode             29773506\n",
       "property_type        29789443\n",
       "new_build            29789443\n",
       "tenure               29789443\n",
       "paon                 29785259\n",
       "saon                  3526921\n",
       "street               29354290\n",
       "locality             18750529\n",
       "town                 29789443\n",
       "district             29789443\n",
       "county               29789443\n",
       "ppd_category         29789443\n",
       "record_status        29789443\n",
       "transfer_ts          29789443\n",
       "transfer_date        29789443\n",
       "year                 29789443\n",
       "dtype: int64"
      ]
     },
     "execution_count": 22,
     "metadata": {},
     "output_type": "execute_result"
    }
   ],
   "source": [
    "df_parq.count()"
   ]
  },
  {
   "cell_type": "code",
   "execution_count": 4,
   "id": "cb957328",
   "metadata": {},
   "outputs": [
    {
     "data": {
      "text/html": [
       "<div>\n",
       "<style scoped>\n",
       "    .dataframe tbody tr th:only-of-type {\n",
       "        vertical-align: middle;\n",
       "    }\n",
       "\n",
       "    .dataframe tbody tr th {\n",
       "        vertical-align: top;\n",
       "    }\n",
       "\n",
       "    .dataframe thead th {\n",
       "        text-align: right;\n",
       "    }\n",
       "</style>\n",
       "<table border=\"1\" class=\"dataframe\">\n",
       "  <thead>\n",
       "    <tr style=\"text-align: right;\">\n",
       "      <th></th>\n",
       "      <th>transaction_id</th>\n",
       "      <th>price</th>\n",
       "      <th>transfer_datetime</th>\n",
       "      <th>postcode</th>\n",
       "      <th>property_type</th>\n",
       "      <th>new_build</th>\n",
       "      <th>tenure</th>\n",
       "      <th>paon</th>\n",
       "      <th>saon</th>\n",
       "      <th>street</th>\n",
       "      <th>locality</th>\n",
       "      <th>town</th>\n",
       "      <th>district</th>\n",
       "      <th>county</th>\n",
       "      <th>ppd_category</th>\n",
       "      <th>record_status</th>\n",
       "      <th>transfer_ts</th>\n",
       "      <th>transfer_date</th>\n",
       "      <th>year</th>\n",
       "    </tr>\n",
       "  </thead>\n",
       "  <tbody>\n",
       "  </tbody>\n",
       "</table>\n",
       "</div>"
      ],
      "text/plain": [
       "Empty DataFrame\n",
       "Columns: [transaction_id, price, transfer_datetime, postcode, property_type, new_build, tenure, paon, saon, street, locality, town, district, county, ppd_category, record_status, transfer_ts, transfer_date, year]\n",
       "Index: []"
      ]
     },
     "metadata": {},
     "output_type": "display_data"
    }
   ],
   "source": [
    "# Filter Manchester rows and only before 2025\n",
    "scot = df_parq[(df_parq[\"district\"].str.upper() == \"HIGHLAND\")]\n",
    "\n",
    "\n",
    "# Show the result\n",
    "display(scot)"
   ]
  },
  {
   "cell_type": "code",
   "execution_count": 38,
   "id": "38e50f3e",
   "metadata": {},
   "outputs": [
    {
     "data": {
      "text/plain": [
       "array(['WIGAN', 'SHEPWAY', 'WOLVERHAMPTON', 'CEREDIGION', 'HOUNSLOW',\n",
       "       'PORTSMOUTH', 'NORTH WEST LEICESTERSHIRE', 'SOUTH NORFOLK',\n",
       "       'HORSHAM', 'ENFIELD', 'CASTLE POINT', 'BROXBOURNE', 'CARDIFF',\n",
       "       'CROYDON', 'ROCHESTER UPON MEDWAY', 'REIGATE AND BANSTEAD',\n",
       "       'AYLESBURY VALE', 'EREWASH', 'HAMMERSMITH AND FULHAM', 'FENLAND',\n",
       "       'DARLINGTON', 'SEDGEFIELD', 'CRAWLEY', 'ADUR', 'MANCHESTER',\n",
       "       'THREE RIVERS', 'ARUN', 'GATESHEAD', 'BARNET', 'HARINGEY',\n",
       "       'MID DEVON', 'BARNSLEY', 'COTSWOLD', 'ROSSENDALE', 'BRECKLAND',\n",
       "       'LEEDS', 'WAKEFIELD', 'PORT TALBOT', 'RESTORMEL', 'SANDWELL',\n",
       "       'MAIDSTONE', 'SOUTH STAFFORDSHIRE', 'ROTHERHAM', 'CARADON',\n",
       "       'WREXHAM MAELOR', 'BLACKBURN', 'KINGSWOOD', 'SOUTH KESTEVEN',\n",
       "       'GLOUCESTER', 'RICHMOND UPON THAMES', 'CHARNWOOD', 'KENNET',\n",
       "       'CHELTENHAM', 'BEXLEY', 'BURY', 'KERRIER', 'TAMESIDE',\n",
       "       'WINCHESTER', 'EAST HERTFORDSHIRE', 'NORWICH', 'TOWER HAMLETS',\n",
       "       'LEICESTER', 'STOKE-ON-TRENT', 'TAFF-ELY', 'IPSWICH',\n",
       "       'WELLINGBOROUGH', 'CALDERDALE', 'TRAFFORD', 'STEVENAGE',\n",
       "       'THE WREKIN', 'KIRKLEES', 'CAMBRIDGE', 'HOVE', 'REDDITCH',\n",
       "       'ISLWYN', 'HUNTINGDONSHIRE', 'BIRMINGHAM', 'BASILDON', 'ELMBRIDGE',\n",
       "       'NORTH KESTEVEN', 'HILLINGDON', 'EASTBOURNE', 'HAVANT',\n",
       "       'WANDSWORTH', 'MEDINA', 'HACKNEY', 'POOLE', 'PLYMOUTH',\n",
       "       'NORTH HERTFORDSHIRE', 'WYCHAVON', 'WALSALL', 'WATFORD',\n",
       "       'TEIGNBRIDGE', 'SELBY', 'SOUTH OXFORDSHIRE', 'BOOTHFERRY',\n",
       "       'PRESELI PEMBROKESHIRE', 'SEFTON', 'EPPING FOREST', 'SWANSEA',\n",
       "       'ST EDMUNDSBURY', 'BRADFORD', 'WALTHAM FOREST', 'TORFAEN',\n",
       "       'KINGSTON UPON HULL', 'UTTLESFORD', 'COLCHESTER',\n",
       "       'BASINGSTOKE AND DEANE', 'RUNNYMEDE', 'CANNOCK CHASE', 'SOLIHULL',\n",
       "       'CASTLE MORPETH', 'LEWES', 'ROTHER', 'GOSPORT', 'WILTSHIRE',\n",
       "       'NOTTINGHAM', 'LANCASTER', 'SOUTHEND-ON-SEA', 'WEST LANCASHIRE',\n",
       "       'SUTTON', 'DARTFORD', 'MERTON', 'CAMDEN', 'WYCOMBE', 'HARROW',\n",
       "       'GEDLING', 'RUSHCLIFFE', 'BRENT', 'HYNDBURN', 'NEW FOREST',\n",
       "       'SOUTHWARK', 'TORRIDGE', 'REDBRIDGE', 'EAST HAMPSHIRE',\n",
       "       'KINGSTON UPON THAMES', 'AMBER VALLEY', 'LAMBETH',\n",
       "       'NEWCASTLE UPON TYNE', 'ASHFORD', 'HAVERING', 'WEALDEN', 'THANET',\n",
       "       'BATH AND NORTH EAST SOMERSET', 'ELLESMERE PORT AND NESTON',\n",
       "       'GWYNEDD', 'HART', 'MALDON', 'GREAT YARMOUTH', 'BROMSGROVE',\n",
       "       'NORTH DORSET', 'SOUTH SHROPSHIRE', 'ST HELENS', 'BOLTON',\n",
       "       'KENSINGTON AND CHELSEA', 'CHELMSFORD', 'MID SUSSEX',\n",
       "       'SOUTH TYNESIDE', 'WEST WILTSHIRE', 'PETERBOROUGH', 'NORTHAMPTON',\n",
       "       'ROCHDALE', 'CANTERBURY', 'VALE OF GLAMORGAN', 'MIDDLESBROUGH',\n",
       "       'BRISTOL', 'HEREFORD', 'TANDRIDGE', 'SOUTH SOMERSET', 'WOKINGHAM',\n",
       "       'WAVERLEY', 'SOUTH HAMS', 'SOUTHAMPTON', 'EAST DEVON', 'LUTON',\n",
       "       'WEST DORSET', 'NEWHAM', 'DERBYSHIRE DALES', 'CITY OF WESTMINSTER',\n",
       "       'STOCKTON-ON-TEES', 'GUILDFORD', \"KING'S LYNN AND WEST NORFOLK\",\n",
       "       'ROCHFORD', 'HARLOW', 'GREAT GRIMSBY', 'RHONDDA',\n",
       "       'CITY OF KINGSTON UPON HULL', 'BRACKNELL FOREST', 'FOREST OF DEAN',\n",
       "       'BASSETLAW', 'HOLDERNESS', 'WEAR VALLEY', 'BRAINTREE', 'RHUDDLAN',\n",
       "       'VALE OF WHITE HORSE', 'SEDGEMOOR', 'WOODSPRING', 'EAST LINDSEY',\n",
       "       'EAST DORSET', 'MERTHYR TYDFIL', 'DUDLEY', 'MELTON', 'PURBECK',\n",
       "       'SALFORD', 'DONCASTER', 'WEST SOMERSET', 'BRIGHTON',\n",
       "       'SURREY HEATH', 'ALYN AND DEESIDE', 'TENDRING', 'GLANFORD',\n",
       "       'BROADLAND', 'LEWISHAM', 'BOLSOVER', 'WOKING',\n",
       "       'SOUTH CAMBRIDGESHIRE', 'WARRINGTON', 'PENDLE', 'NEWPORT',\n",
       "       'BROXTOWE', 'WIRRAL', 'NORTH WILTSHIRE', 'MID SUFFOLK',\n",
       "       'HIGH PEAK', 'EALING', 'DAVENTRY', 'SHEFFIELD',\n",
       "       'TONBRIDGE AND MALLING', 'CARRICK', 'DURHAM', 'SLOUGH', 'MENDIP',\n",
       "       'EPSOM AND EWELL', 'HAMBLETON', 'BROMLEY', 'ST ALBANS',\n",
       "       'HARROGATE', 'TORBAY', 'WAVENEY', 'ISLINGTON', 'CHRISTCHURCH',\n",
       "       'NEWCASTLE-UNDER-LYME', 'BRIDGNORTH', 'NORTH NORFOLK',\n",
       "       'SOUTH RIBBLE', 'STRATFORD-ON-AVON', 'CHILTERN', 'SOUTH WIGHT',\n",
       "       'TEESDALE', 'CHESTERFIELD', 'COVENTRY', 'THURROCK', 'HARBOROUGH',\n",
       "       'HERTSMERE', 'PRESTON', 'LLANELLI', 'RYEDALE',\n",
       "       'WINDSOR AND MAIDENHEAD', 'MACCLESFIELD', 'MONTGOMERYSHIRE',\n",
       "       'MALVERN HILLS', 'OGWR', 'STOCKPORT', 'BLAENAU GWENT', 'CHORLEY',\n",
       "       'BRENTWOOD', 'ASHFIELD', 'GRAVESHAM', 'HASTINGS',\n",
       "       'SUFFOLK COASTAL', 'RUGBY', 'WEST LINDSEY', 'CHERWELL',\n",
       "       'SOUTH LAKELAND', 'RHYMNEY VALLEY', 'SWALE', 'CITY OF LONDON',\n",
       "       'LINCOLN', 'SUNDERLAND', 'OXFORD', 'MILTON KEYNES', 'CRAVEN',\n",
       "       'SALISBURY', 'BABERGH', 'ALLERDALE', 'LICHFIELD', 'RUSHMOOR',\n",
       "       'EAST YORKSHIRE', 'LEOMINSTER', 'RICHMONDSHIRE',\n",
       "       'NORTH EAST DERBYSHIRE', 'OLDHAM', 'GREENWICH', 'EASTLEIGH',\n",
       "       'SPELTHORNE', 'MOLE VALLEY', 'NORTH TYNESIDE', 'BARROW-IN-FURNESS',\n",
       "       'DACORUM', 'CYNON VALLEY', 'LIVERPOOL', 'STAFFORD', 'COLWYN',\n",
       "       'TEST VALLEY', 'WANSDYKE', 'SCARBOROUGH', 'NORTH DEVON',\n",
       "       'NORTH CORNWALL', 'BRIGHTON AND HOVE', 'DINEFWR', 'DERBY', 'POWYS',\n",
       "       'MID BEDFORDSHIRE', 'EXETER', 'WYRE FOREST', 'CHICHESTER',\n",
       "       'THAMESDOWN', 'THE EAST YORKSHIRE BOROUGH OF BEVERLEY',\n",
       "       'MEIRIONNYDD', 'SEVENOAKS', 'DERWENTSIDE', 'WARWICK', 'GILLINGHAM',\n",
       "       'READING', 'NEWBURY', 'SOUTH BUCKS', 'BLACKPOOL',\n",
       "       'NORTH BEDFORDSHIRE', 'HARTLEPOOL', 'EAST NORTHAMPTONSHIRE',\n",
       "       'NEWARK AND SHERWOOD', 'TAMWORTH', 'SCUNTHORPE', 'TAUNTON DEANE',\n",
       "       'VALE ROYAL', 'SOUTH DERBYSHIRE', 'EAST STAFFORDSHIRE', 'NEATH',\n",
       "       'CONGLETON', 'BLABY', 'TUNBRIDGE WELLS', 'DELYN', 'DOVER',\n",
       "       'KETTERING', 'SOUTH BEDFORDSHIRE', 'CLEETHORPES', 'KNOWSLEY',\n",
       "       'WORTHING', 'MONMOUTH', 'PENWITH', 'TYNEDALE', 'CHESTER',\n",
       "       'RIBBLE VALLEY', 'CARMARTHEN', 'HALTON', 'EASINGTON',\n",
       "       'BOURNEMOUTH', 'WELWYN HATFIELD', 'ARFON', 'NUNEATON AND BEDWORTH',\n",
       "       'SOUTH HOLLAND', 'FAREHAM', 'WORCESTER', 'MEDWAY', 'BATH',\n",
       "       'LLIW VALLEY', 'BURNLEY', 'FOREST HEATH', 'FYLDE', 'WYRE',\n",
       "       'STROUD', 'CORBY', 'CARLISLE', 'WEST DEVON',\n",
       "       'BARKING AND DAGENHAM', 'CHESTER-LE-STREET', 'BLYTH VALLEY',\n",
       "       'SOUTH HEREFORDSHIRE', 'DWYFOR', 'NORTH WARWICKSHIRE', 'MANSFIELD',\n",
       "       'LANGBAURGH-ON-TEES', 'NORTHAVON', 'STAFFORDSHIRE MOORLANDS',\n",
       "       'TEWKESBURY', 'CORNWALL', 'ISLE OF ANGLESEY', 'OADBY AND WIGSTON',\n",
       "       'WEST OXFORDSHIRE', 'SHREWSBURY AND ATCHAM', 'EAST CAMBRIDGESHIRE',\n",
       "       'BOSTON', 'ALNWICK', 'WANSBECK', 'CREWE AND NANTWICH',\n",
       "       'HINCKLEY AND BOSWORTH', 'ABERCONWY', 'COPELAND', 'COUNTY DURHAM',\n",
       "       'CITY OF DERBY', 'YORK', 'YNYS MON-ISLE OF ANGLESEY', 'GLYNDWR',\n",
       "       'EDEN', 'SOUTH PEMBROKESHIRE', 'SWINDON', 'BRECKNOCK',\n",
       "       'CARMARTHENSHIRE', 'OSWESTRY', 'SOUTH NORTHAMPTONSHIRE',\n",
       "       'CENTRAL BEDFORDSHIRE', 'WEYMOUTH AND PORTLAND', 'RUTLAND',\n",
       "       'PEMBROKESHIRE', 'NORTH SOMERSET', 'CITY OF BRISTOL',\n",
       "       'BERWICK-UPON-TWEED', 'CHESHIRE EAST', 'ISLE OF WIGHT',\n",
       "       'EAST RIDING OF YORKSHIRE', 'NORTH SHROPSHIRE', 'BEDFORD',\n",
       "       'WEST BERKSHIRE', 'NEATH PORT TALBOT', 'WEST NORTHAMPTONSHIRE',\n",
       "       'THE VALE OF GLAMORGAN', 'NORTH NORTHAMPTONSHIRE',\n",
       "       'NORTH LINCOLNSHIRE', 'SHROPSHIRE', 'BLACKBURN WITH DARWEN',\n",
       "       'CAERPHILLY', 'WREKIN', 'BRIDGEND', 'HEREFORDSHIRE', 'RADNORSHIRE',\n",
       "       'SOUTH GLOUCESTERSHIRE', 'EAST SUFFOLK', 'CITY OF NOTTINGHAM',\n",
       "       'CITY OF PETERBOROUGH', 'REDCAR AND CLEVELAND', 'CONWY',\n",
       "       'CITY OF PLYMOUTH', 'FLINTSHIRE', 'NORTHUMBERLAND',\n",
       "       'NORTH YORKSHIRE', 'CHESHIRE WEST AND CHESTER', 'BUCKINGHAMSHIRE',\n",
       "       'RHONDDA CYNON TAFF', 'DORSET', 'SOMERSET', \"ST MARY'S\",\n",
       "       'MONMOUTHSHIRE', 'WREXHAM', 'SOMERSET WEST AND TAUNTON',\n",
       "       'NORTH EAST LINCOLNSHIRE', 'DENBIGHSHIRE', 'FOLKESTONE AND HYTHE',\n",
       "       'BOURNEMOUTH, CHRISTCHURCH AND POOLE', 'RADNOR',\n",
       "       'WESTMORLAND AND FURNESS', 'WEST SUFFOLK', 'CUMBERLAND',\n",
       "       'ISLES OF SCILLY'], dtype=object)"
      ]
     },
     "execution_count": 38,
     "metadata": {},
     "output_type": "execute_result"
    }
   ],
   "source": [
    "df_full[\"district\"].unique()"
   ]
  },
  {
   "cell_type": "code",
   "execution_count": null,
   "id": "bc4aaa0a",
   "metadata": {},
   "outputs": [],
   "source": [
    "from config.streamlit_config import MART_FACT_BY_DISTRICT"
   ]
  }
 ],
 "metadata": {
  "kernelspec": {
   "display_name": ".venv (3.10.0)",
   "language": "python",
   "name": "python3"
  },
  "language_info": {
   "codemirror_mode": {
    "name": "ipython",
    "version": 3
   },
   "file_extension": ".py",
   "mimetype": "text/x-python",
   "name": "python",
   "nbconvert_exporter": "python",
   "pygments_lexer": "ipython3",
   "version": "3.10.0"
  }
 },
 "nbformat": 4,
 "nbformat_minor": 5
}
